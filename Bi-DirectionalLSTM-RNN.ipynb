{
 "cells": [
  {
   "cell_type": "code",
   "execution_count": 57,
   "metadata": {},
   "outputs": [],
   "source": [
    "import tensorflow as tf"
   ]
  },
  {
   "cell_type": "code",
   "execution_count": 58,
   "metadata": {},
   "outputs": [],
   "source": [
    "no_steps = 30\n",
    "n_features = 3\n",
    "input_shape = (None, no_steps, n_features)\n",
    "num_units = 40\n",
    "learning_rate = 0.001"
   ]
  },
  {
   "cell_type": "code",
   "execution_count": 59,
   "metadata": {},
   "outputs": [],
   "source": [
    "tf.reset_default_graph()"
   ]
  },
  {
   "cell_type": "code",
   "execution_count": 60,
   "metadata": {},
   "outputs": [],
   "source": [
    "with tf.variable_scope('ForwardtimeI/OLayer'):\n",
    "    fw_x = tf.placeholder(dtype=tf.float32, shape=input_shape, name='forward_input')\n",
    "    bw_x = tf.placeholder(dtype=tf.float32, shape=input_shape, name='backward_input')\n",
    "    y = tf.placeholder(dtype=tf.float32, shape=None,name='y')"
   ]
  },
  {
   "cell_type": "code",
   "execution_count": 61,
   "metadata": {},
   "outputs": [],
   "source": [
    "with tf.variable_scope('ForwardtimeLSTMLayer'):\n",
    "    fw_cell = tf.nn.rnn_cell.LSTMCell(activation=tf.nn.elu, dtype=tf.float32,name='forward_cell', num_units=num_units)\n",
    "    fw_outputs, fw_state = tf.nn.dynamic_rnn(cell=fw_cell,dtype=tf.float32, inputs=fw_x)"
   ]
  },
  {
   "cell_type": "code",
   "execution_count": 62,
   "metadata": {},
   "outputs": [],
   "source": [
    "with tf.variable_scope('BackwardtimeLSTMLayer'):\n",
    "    bw_cell = tf.nn.rnn_cell.LSTMCell(activation=tf.nn.elu, dtype=tf.float32, name='backward_cell', num_units=num_units)\n",
    "    bw_outputs, bw_state = tf.nn.dynamic_rnn(cell=bw_cell, dtype=tf.float32, inputs=bw_x)"
   ]
  },
  {
   "cell_type": "code",
   "execution_count": 63,
   "metadata": {},
   "outputs": [],
   "source": [
    "with tf.variable_scope('BiDirectionalLSTM'):\n",
    "    stacked_cell = tf.stack([fw_outputs, bw_outputs], axis=1)\n",
    "    outputs= tf.layers.dense(activation=tf.nn.elu, kernel_initializer=tf.contrib.layers.variance_scaling_initializer(),\n",
    "                             units=1, inputs=stacked_cell)\n",
    "\n",
    "with tf.variable_scope('loss'):\n",
    "    ##lets say its mean squared cost function\n",
    "    loss = tf.reduce_mean(tf.square(y - outputs))\n",
    "    optimizer = tf.train.MomentumOptimizer(learning_rate=learning_rate, momentum=0.99,use_nesterov=True)\n",
    "    training_op = optimizer.minimize(loss)"
   ]
  },
  {
   "cell_type": "markdown",
   "metadata": {},
   "source": [
    "### Run this cell in code mode to have an idea on what tf.stack is doing\n",
    "```\n",
    "with tf.Session() as sess: \n",
    "    print(tf.stack([[1,2,3,4],[5,6,7,8]], axis=1).eval())\n",
    "    ```"
   ]
  },
  {
   "cell_type": "code",
   "execution_count": 64,
   "metadata": {},
   "outputs": [],
   "source": [
    "with tf.Session() as sess:\n",
    "    # ----------------------------------------\n",
    "    # proceed with training, except when feeding bw_x\n",
    "    # value of bw_x = value of fw_x [::-1]\n",
    "    # ----------------------------------------\n",
    "    pass"
   ]
  }
 ],
 "metadata": {
  "kernelspec": {
   "display_name": "Python 3",
   "language": "python",
   "name": "python3"
  },
  "language_info": {
   "codemirror_mode": {
    "name": "ipython",
    "version": 3
   },
   "file_extension": ".py",
   "mimetype": "text/x-python",
   "name": "python",
   "nbconvert_exporter": "python",
   "pygments_lexer": "ipython3",
   "version": "3.6.6"
  }
 },
 "nbformat": 4,
 "nbformat_minor": 2
}
